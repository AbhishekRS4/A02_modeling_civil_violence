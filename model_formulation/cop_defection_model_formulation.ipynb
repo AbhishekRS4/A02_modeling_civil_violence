{
 "cells": [
  {
   "cell_type": "code",
   "execution_count": 1,
   "metadata": {},
   "outputs": [],
   "source": [
    "import os\n",
    "import numpy as np\n",
    "import pandas as pd\n",
    "import matplotlib.pyplot as plt"
   ]
  },
  {
   "cell_type": "markdown",
   "metadata": {},
   "source": [
    "# Cop defection model formulation"
   ]
  },
  {
   "cell_type": "markdown",
   "metadata": {},
   "source": [
    "### Model assumptions"
   ]
  },
  {
   "cell_type": "markdown",
   "metadata": {},
   "source": [
    "* All the cops have the same rank, i.e. all cops are field cops\n",
    "* The defected cops don't reveal to the other cops that they have defected (only rebels know which cops have defected and support the rebellion cause)\n",
    "* Then, how will they affect the dynamics of the rebellion i.e. what exactly will a defected cop do? The defected cops, simply will not jail any active rebels in its vision"
   ]
  },
  {
   "cell_type": "markdown",
   "metadata": {},
   "source": [
    "### States of a cop"
   ]
  },
  {
   "cell_type": "markdown",
   "metadata": {},
   "source": [
    "* There will be only 2 states for a cop, and they are either **defected** or **not_defected**\n",
    "* The transition of a cop's state depends on the various attributes that guide the rules"
   ]
  },
  {
   "cell_type": "markdown",
   "metadata": {},
   "source": [
    "### Attributes that guide the rules for a cop"
   ]
  },
  {
   "cell_type": "markdown",
   "metadata": {},
   "source": [
    "* The model considers only some parameters to decide cop defection rules based on greed and hardship faced"
   ]
  },
  {
   "cell_type": "markdown",
   "metadata": {},
   "source": [
    "1. Benefits provided by authority ($\\lambda$) - _homogeneous_\n",
    "2. Personal bias (agenda) against the authority (B) - _heterogeneous_ $$ B = U(0, 1)$$\n",
    "a higher value indicates higher bias against the authority\n",
    "3. Hardship (H) - _heterogeneous_ $$H = U(0, 1)$$\n",
    "4. Greed (Gr) - _heterogeneous_ $$Gr = U(0, 1)$$\n",
    "5. Perceived legitimacy (L) - _homogeneous_ - different from that of the rebels since the cops and rebels represent different sets of population in the society"
   ]
  },
  {
   "cell_type": "markdown",
   "metadata": {},
   "source": [
    "# Derived attributes"
   ]
  },
  {
   "cell_type": "markdown",
   "metadata": {},
   "source": [
    "1. Tendency to defect due to grievance $$ T_{grievance} = H * (1 - L) $$\n",
    "2. Tendency to defect due to greed $$ T_{greed} = (1 - \\lambda) * Gr $$\n",
    "3. Avg tendency to defect $$ T_{avg} = \\frac{T_{grievance} + T_{greed}}{2}$$\n",
    "4. Probability defection $$ P_{def} = 1 - e^{-(\\frac{zB}{1 - T_{avg}})} $$"
   ]
  },
  {
   "cell_type": "markdown",
   "metadata": {},
   "source": [
    "## References"
   ]
  },
  {
   "cell_type": "markdown",
   "metadata": {},
   "source": [
    "* [The measurement of police integrity](https://www.ncjrs.gov/pdffiles1/nij/181465.pdf)"
   ]
  },
  {
   "cell_type": "code",
   "execution_count": null,
   "metadata": {},
   "outputs": [],
   "source": []
  },
  {
   "cell_type": "code",
   "execution_count": 2,
   "metadata": {},
   "outputs": [],
   "source": [
    "L = 0.2\n",
    "# [0, 1]"
   ]
  },
  {
   "cell_type": "code",
   "execution_count": 3,
   "metadata": {},
   "outputs": [],
   "source": [
    "lambda_b = 0.8\n",
    "# [0, 1]"
   ]
  },
  {
   "cell_type": "code",
   "execution_count": 4,
   "metadata": {},
   "outputs": [],
   "source": [
    "n = 8\n",
    "x_labels = np.arange(n)"
   ]
  },
  {
   "cell_type": "code",
   "execution_count": 5,
   "metadata": {},
   "outputs": [],
   "source": [
    "H = np.array([0.2, 0.2, 0.2, 0.2, 0.8, 0.8, 0.8, 0.8])\n",
    "Gr = np.array([0.2, 0.2, 0.8, 0.8, 0.2, 0.2, 0.8, 0.8])\n",
    "B = np.array([0.2, 0.8, 0.2, 0.8, 0.2, 0.8, 0.2, 0.8])"
   ]
  },
  {
   "cell_type": "code",
   "execution_count": 6,
   "metadata": {},
   "outputs": [],
   "source": [
    "#H = np.random.rand(n)\n",
    "#Gr = np.random.rand(n)\n",
    "#B = np.random.rand(n)"
   ]
  },
  {
   "cell_type": "code",
   "execution_count": 7,
   "metadata": {},
   "outputs": [
    {
     "data": {
      "text/plain": [
       "array([0.2, 0.2, 0.2, 0.2, 0.8, 0.8, 0.8, 0.8])"
      ]
     },
     "execution_count": 7,
     "metadata": {},
     "output_type": "execute_result"
    }
   ],
   "source": [
    "H"
   ]
  },
  {
   "cell_type": "code",
   "execution_count": 8,
   "metadata": {},
   "outputs": [
    {
     "data": {
      "text/plain": [
       "array([0.2, 0.2, 0.8, 0.8, 0.2, 0.2, 0.8, 0.8])"
      ]
     },
     "execution_count": 8,
     "metadata": {},
     "output_type": "execute_result"
    }
   ],
   "source": [
    "Gr"
   ]
  },
  {
   "cell_type": "code",
   "execution_count": 9,
   "metadata": {},
   "outputs": [
    {
     "data": {
      "text/plain": [
       "array([0.2, 0.8, 0.2, 0.8, 0.2, 0.8, 0.2, 0.8])"
      ]
     },
     "execution_count": 9,
     "metadata": {},
     "output_type": "execute_result"
    }
   ],
   "source": [
    "B"
   ]
  },
  {
   "cell_type": "code",
   "execution_count": null,
   "metadata": {},
   "outputs": [],
   "source": []
  },
  {
   "cell_type": "code",
   "execution_count": 10,
   "metadata": {},
   "outputs": [],
   "source": [
    "T_grievance = H * (1 - L)"
   ]
  },
  {
   "cell_type": "code",
   "execution_count": 11,
   "metadata": {},
   "outputs": [],
   "source": [
    "T_greed = (1 - lambda_b) * Gr"
   ]
  },
  {
   "cell_type": "code",
   "execution_count": 12,
   "metadata": {},
   "outputs": [],
   "source": [
    "T = (T_grievance + T_greed) / 2"
   ]
  },
  {
   "cell_type": "code",
   "execution_count": null,
   "metadata": {},
   "outputs": [],
   "source": []
  },
  {
   "cell_type": "code",
   "execution_count": 13,
   "metadata": {},
   "outputs": [],
   "source": [
    "z = 1.8"
   ]
  },
  {
   "cell_type": "code",
   "execution_count": 14,
   "metadata": {},
   "outputs": [],
   "source": [
    "P_def = 1 - np.exp(-(z * B / (1-T)))"
   ]
  },
  {
   "cell_type": "code",
   "execution_count": null,
   "metadata": {},
   "outputs": [],
   "source": []
  },
  {
   "cell_type": "markdown",
   "metadata": {},
   "source": [
    "## Variation of various parameters for cop modelling"
   ]
  },
  {
   "cell_type": "code",
   "execution_count": 15,
   "metadata": {},
   "outputs": [
    {
     "name": "stderr",
     "output_type": "stream",
     "text": [
      "c:\\users\\abhishek\\appdata\\local\\programs\\python\\python37\\lib\\site-packages\\ipykernel_launcher.py:9: UserWarning: Matplotlib is currently using module://ipykernel.pylab.backend_inline, which is a non-GUI backend, so cannot show the figure.\n",
      "  if __name__ == '__main__':\n"
     ]
    },
    {
     "data": {
      "image/png": "[encoded data removed]",
      "text/plain": [
       "<Figure size 864x648 with 1 Axes>"
      ]
     },
     "metadata": {
      "needs_background": "light"
     },
     "output_type": "display_data"
    }
   ],
   "source": [
    "fig = plt.figure(figsize=(12, 9))\n",
    "ax = fig.add_axes([0,0,1,1])\n",
    "ax.bar(x_labels+0.00, H, width=0.10, label=\"Hardship (H)\")\n",
    "ax.bar(x_labels+0.10, Gr, width=0.10, label=\"Greed (Gr)\")\n",
    "ax.bar(x_labels+0.20, B, width=0.10, label=\"Personal bias (B)\")\n",
    "ax.bar(x_labels+0.30, T, width=0.10, label=\"Avg tendency of defection(T_avg)\")\n",
    "ax.bar(x_labels+0.40, P_def, width=0.1, label=\"Prob defection (P_def)\")\n",
    "ax.legend()\n",
    "fig.show()"
   ]
  },
  {
   "cell_type": "code",
   "execution_count": null,
   "metadata": {},
   "outputs": [],
   "source": []
  }
 ],
 "metadata": {
  "kernelspec": {
   "display_name": "Python 3",
   "language": "python",
   "name": "python3"
  },
  "language_info": {
   "codemirror_mode": {
    "name": "ipython",
    "version": 3
   },
   "file_extension": ".py",
   "mimetype": "text/x-python",
   "name": "python",
   "nbconvert_exporter": "python",
   "pygments_lexer": "ipython3",
   "version": "3.7.7"
  }
 },
 "nbformat": 4,
 "nbformat_minor": 4
}
